{
 "cells": [
  {
   "cell_type": "code",
   "execution_count": 42,
   "metadata": {
    "scrolled": false
   },
   "outputs": [
    {
     "name": "stdout",
     "output_type": "stream",
     "text": [
      "0.6180339887482036\n",
      "0.38196601125179636\n",
      "0.23606797749640723\n",
      "0.14589803375538912\n",
      "0.09016994374101811\n",
      "0.055728090014371026\n",
      "0.03444185372664708\n",
      "0.021286236287723952\n",
      "0.013155617438923125\n",
      "0.008130618848800826\n",
      "0.005024998590122299\n",
      "0.0031056202586785264\n",
      "0.001919378331443773\n",
      "0.0011862419272347534\n",
      "0.0007331364042090197\n",
      "0.00045310552302573365\n",
      "0.000280030881183286\n",
      "0.00017307464184244763\n",
      "0.00010695623934083842\n",
      "6.611840250160921e-5\n",
      "4.0837836839229215e-5\n",
      "2.528056566237999e-5\n",
      "1.5557271176849226e-5\n",
      "9.723294485530765e-6\n",
      "5.83397669131846e-6\n",
      "3.889317794212306e-6\n"
     ]
    },
    {
     "data": {
      "text/plain": [
       "(0.6180300994304094, -0.6180300994304094)"
      ]
     },
     "execution_count": 42,
     "metadata": {},
     "output_type": "execute_result"
    },
    {
     "name": "stdout",
     "output_type": "stream",
     "text": [
      "1.944658897106153e-6\n"
     ]
    }
   ],
   "source": [
    "function kwa(x)\n",
    "    return x^2\n",
    "end\n",
    "    \n",
    "function fibo(f, a, b, ε=0.01)\n",
    "    L = b - a\n",
    "    k = 1\n",
    "    #ilość potrzebnych wyliczeń wartości funkcji przy danej dokładności ε\n",
    "    FN1 = trunc(Int, 2 * L / ε)\n",
    "    i = 2\n",
    "    F = [1, 1]\n",
    "    while F[i] < FN1\n",
    "        append!(F, F[i] + F[i-1])\n",
    "        i = i + 1\n",
    "    end\n",
    "    N = size(F)[1] - 1\n",
    "    while k < N\n",
    "        l = F[N - k + 1] / F[N + 1]\n",
    "        println(l)\n",
    "        x1 = a + l\n",
    "        x2 = b - l\n",
    "        if f(x1) < f(x2)\n",
    "            b = x2\n",
    "        elseif f(x1) > f(x2)\n",
    "            a = x1\n",
    "        else\n",
    "            a = x1\n",
    "            b = x2\n",
    "        end\n",
    "        k = k + 1\n",
    "    end\n",
    "    \n",
    "    return a, b\n",
    "end\n",
    "fibo(x -> x^2, -1, 1)"
   ]
  },
  {
   "cell_type": "code",
   "execution_count": null,
   "metadata": {},
   "outputs": [],
   "source": []
  }
 ],
 "metadata": {
  "kernelspec": {
   "display_name": "Julia 1.3.1",
   "language": "julia",
   "name": "julia-1.3"
  },
  "language_info": {
   "file_extension": ".jl",
   "mimetype": "application/julia",
   "name": "julia",
   "version": "1.3.1"
  }
 },
 "nbformat": 4,
 "nbformat_minor": 4
}
